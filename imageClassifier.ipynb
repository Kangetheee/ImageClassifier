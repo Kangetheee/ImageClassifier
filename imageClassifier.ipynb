{
  "cells": [
    {
      "cell_type": "markdown",
      "metadata": {
        "id": "q0OW5aRNkGg9"
      },
      "source": [
        "# Image Classifier\n",
        "## 1. Building a Data Pipeline"
      ]
    },
    {
      "cell_type": "markdown",
      "source": [
        "### data setup in colab\n"
      ],
      "metadata": {
        "id": "pmMjX7bKkdZc"
      }
    },
    {
      "cell_type": "code",
      "source": [
        "import zipfile\n",
        "import os\n",
        "\n",
        "# Step 1: Create the data directory and subdirectories (if they don't exist)\n",
        "data_folder = '/content/data'  # Main folder\n",
        "happy_folder = os.path.join(data_folder, 'happy')  # Subfolder for happy data\n",
        "sad_folder = os.path.join(data_folder, 'sad')  # Subfolder for sad data\n",
        "\n",
        "# Create the subdirectories\n",
        "os.makedirs(happy_folder, exist_ok=True)\n",
        "os.makedirs(sad_folder, exist_ok=True)\n",
        "\n",
        "# Step 2: Specify the paths to your ZIP files\n",
        "zip_paths = ['/content/happy.zip', '/content/sad.zip']  # List of ZIP file paths\n",
        "folders = [happy_folder, sad_folder]  # Corresponding folders for each ZIP file\n",
        "\n",
        "# Step 3: Extract each ZIP file into the appropriate folder\n",
        "for zip_path, folder in zip(zip_paths, folders):\n",
        "    try:\n",
        "        with zipfile.ZipFile(zip_path, 'r') as zip_ref:\n",
        "            zip_ref.extractall(folder)\n",
        "        print(f\"Files from {zip_path} extracted to:\", folder)\n",
        "    except FileNotFoundError:\n",
        "        print(f\"File {zip_path} not found!\")\n"
      ],
      "metadata": {
        "id": "Gg-w7td-khyV",
        "outputId": "d91ab603-b481-40ab-a8c4-95cb364fed54",
        "colab": {
          "base_uri": "https://localhost:8080/"
        }
      },
      "execution_count": 7,
      "outputs": [
        {
          "output_type": "stream",
          "name": "stdout",
          "text": [
            "Files from /content/happy.zip extracted to: /content/data/happy\n",
            "Files from /content/sad.zip extracted to: /content/data/sad\n"
          ]
        }
      ]
    },
    {
      "cell_type": "markdown",
      "metadata": {
        "id": "vKrWA5SlkGhE"
      },
      "source": [
        "### 1.1. Install Packages"
      ]
    },
    {
      "cell_type": "code",
      "execution_count": 9,
      "metadata": {
        "id": "fFWn2BakkGhF",
        "outputId": "b35a1e31-1cd2-49db-8b46-cd8e05ef7186",
        "colab": {
          "base_uri": "https://localhost:8080/"
        }
      },
      "outputs": [
        {
          "output_type": "stream",
          "name": "stdout",
          "text": [
            "Requirement already satisfied: tensorflow in /usr/local/lib/python3.10/dist-packages (2.17.0)\n",
            "Requirement already satisfied: absl-py>=1.0.0 in /usr/local/lib/python3.10/dist-packages (from tensorflow) (1.4.0)\n",
            "Requirement already satisfied: astunparse>=1.6.0 in /usr/local/lib/python3.10/dist-packages (from tensorflow) (1.6.3)\n",
            "Requirement already satisfied: flatbuffers>=24.3.25 in /usr/local/lib/python3.10/dist-packages (from tensorflow) (24.3.25)\n",
            "Requirement already satisfied: gast!=0.5.0,!=0.5.1,!=0.5.2,>=0.2.1 in /usr/local/lib/python3.10/dist-packages (from tensorflow) (0.6.0)\n",
            "Requirement already satisfied: google-pasta>=0.1.1 in /usr/local/lib/python3.10/dist-packages (from tensorflow) (0.2.0)\n",
            "Requirement already satisfied: h5py>=3.10.0 in /usr/local/lib/python3.10/dist-packages (from tensorflow) (3.12.1)\n",
            "Requirement already satisfied: libclang>=13.0.0 in /usr/local/lib/python3.10/dist-packages (from tensorflow) (18.1.1)\n",
            "Requirement already satisfied: ml-dtypes<0.5.0,>=0.3.1 in /usr/local/lib/python3.10/dist-packages (from tensorflow) (0.4.1)\n",
            "Requirement already satisfied: opt-einsum>=2.3.2 in /usr/local/lib/python3.10/dist-packages (from tensorflow) (3.4.0)\n",
            "Requirement already satisfied: packaging in /usr/local/lib/python3.10/dist-packages (from tensorflow) (24.1)\n",
            "Requirement already satisfied: protobuf!=4.21.0,!=4.21.1,!=4.21.2,!=4.21.3,!=4.21.4,!=4.21.5,<5.0.0dev,>=3.20.3 in /usr/local/lib/python3.10/dist-packages (from tensorflow) (3.20.3)\n",
            "Requirement already satisfied: requests<3,>=2.21.0 in /usr/local/lib/python3.10/dist-packages (from tensorflow) (2.32.3)\n",
            "Requirement already satisfied: setuptools in /usr/local/lib/python3.10/dist-packages (from tensorflow) (75.1.0)\n",
            "Requirement already satisfied: six>=1.12.0 in /usr/local/lib/python3.10/dist-packages (from tensorflow) (1.16.0)\n",
            "Requirement already satisfied: termcolor>=1.1.0 in /usr/local/lib/python3.10/dist-packages (from tensorflow) (2.5.0)\n",
            "Requirement already satisfied: typing-extensions>=3.6.6 in /usr/local/lib/python3.10/dist-packages (from tensorflow) (4.12.2)\n",
            "Requirement already satisfied: wrapt>=1.11.0 in /usr/local/lib/python3.10/dist-packages (from tensorflow) (1.16.0)\n",
            "Requirement already satisfied: grpcio<2.0,>=1.24.3 in /usr/local/lib/python3.10/dist-packages (from tensorflow) (1.64.1)\n",
            "Requirement already satisfied: tensorboard<2.18,>=2.17 in /usr/local/lib/python3.10/dist-packages (from tensorflow) (2.17.0)\n",
            "Requirement already satisfied: keras>=3.2.0 in /usr/local/lib/python3.10/dist-packages (from tensorflow) (3.4.1)\n",
            "Requirement already satisfied: tensorflow-io-gcs-filesystem>=0.23.1 in /usr/local/lib/python3.10/dist-packages (from tensorflow) (0.37.1)\n",
            "Requirement already satisfied: numpy<2.0.0,>=1.23.5 in /usr/local/lib/python3.10/dist-packages (from tensorflow) (1.26.4)\n",
            "Requirement already satisfied: wheel<1.0,>=0.23.0 in /usr/local/lib/python3.10/dist-packages (from astunparse>=1.6.0->tensorflow) (0.44.0)\n",
            "Requirement already satisfied: rich in /usr/local/lib/python3.10/dist-packages (from keras>=3.2.0->tensorflow) (13.9.3)\n",
            "Requirement already satisfied: namex in /usr/local/lib/python3.10/dist-packages (from keras>=3.2.0->tensorflow) (0.0.8)\n",
            "Requirement already satisfied: optree in /usr/local/lib/python3.10/dist-packages (from keras>=3.2.0->tensorflow) (0.13.0)\n",
            "Requirement already satisfied: charset-normalizer<4,>=2 in /usr/local/lib/python3.10/dist-packages (from requests<3,>=2.21.0->tensorflow) (3.4.0)\n",
            "Requirement already satisfied: idna<4,>=2.5 in /usr/local/lib/python3.10/dist-packages (from requests<3,>=2.21.0->tensorflow) (3.10)\n",
            "Requirement already satisfied: urllib3<3,>=1.21.1 in /usr/local/lib/python3.10/dist-packages (from requests<3,>=2.21.0->tensorflow) (2.2.3)\n",
            "Requirement already satisfied: certifi>=2017.4.17 in /usr/local/lib/python3.10/dist-packages (from requests<3,>=2.21.0->tensorflow) (2024.8.30)\n",
            "Requirement already satisfied: markdown>=2.6.8 in /usr/local/lib/python3.10/dist-packages (from tensorboard<2.18,>=2.17->tensorflow) (3.7)\n",
            "Requirement already satisfied: tensorboard-data-server<0.8.0,>=0.7.0 in /usr/local/lib/python3.10/dist-packages (from tensorboard<2.18,>=2.17->tensorflow) (0.7.2)\n",
            "Requirement already satisfied: werkzeug>=1.0.1 in /usr/local/lib/python3.10/dist-packages (from tensorboard<2.18,>=2.17->tensorflow) (3.0.6)\n",
            "Requirement already satisfied: MarkupSafe>=2.1.1 in /usr/local/lib/python3.10/dist-packages (from werkzeug>=1.0.1->tensorboard<2.18,>=2.17->tensorflow) (3.0.2)\n",
            "Requirement already satisfied: markdown-it-py>=2.2.0 in /usr/local/lib/python3.10/dist-packages (from rich->keras>=3.2.0->tensorflow) (3.0.0)\n",
            "Requirement already satisfied: pygments<3.0.0,>=2.13.0 in /usr/local/lib/python3.10/dist-packages (from rich->keras>=3.2.0->tensorflow) (2.18.0)\n",
            "Requirement already satisfied: mdurl~=0.1 in /usr/local/lib/python3.10/dist-packages (from markdown-it-py>=2.2.0->rich->keras>=3.2.0->tensorflow) (0.1.2)\n",
            "\u001b[31mERROR: Could not find a version that satisfies the requirement tensorflow-gpu==2.17.0 (from versions: 2.8.0rc0, 2.8.0rc1, 2.8.0, 2.8.1, 2.8.2, 2.8.3, 2.8.4, 2.9.0rc0, 2.9.0rc1, 2.9.0rc2, 2.9.0, 2.9.1, 2.9.2, 2.9.3, 2.10.0rc0, 2.10.0rc1, 2.10.0rc2, 2.10.0rc3, 2.10.0, 2.10.1, 2.11.0rc0, 2.11.0rc1, 2.11.0rc2, 2.11.0, 2.12.0)\u001b[0m\u001b[31m\n",
            "\u001b[0m\u001b[31mERROR: No matching distribution found for tensorflow-gpu==2.17.0\u001b[0m\u001b[31m\n",
            "\u001b[0mRequirement already satisfied: opencv-python in /usr/local/lib/python3.10/dist-packages (4.10.0.84)\n",
            "Requirement already satisfied: numpy>=1.21.2 in /usr/local/lib/python3.10/dist-packages (from opencv-python) (1.26.4)\n",
            "Requirement already satisfied: matplotlib in /usr/local/lib/python3.10/dist-packages (3.8.0)\n",
            "Requirement already satisfied: contourpy>=1.0.1 in /usr/local/lib/python3.10/dist-packages (from matplotlib) (1.3.0)\n",
            "Requirement already satisfied: cycler>=0.10 in /usr/local/lib/python3.10/dist-packages (from matplotlib) (0.12.1)\n",
            "Requirement already satisfied: fonttools>=4.22.0 in /usr/local/lib/python3.10/dist-packages (from matplotlib) (4.54.1)\n",
            "Requirement already satisfied: kiwisolver>=1.0.1 in /usr/local/lib/python3.10/dist-packages (from matplotlib) (1.4.7)\n",
            "Requirement already satisfied: numpy<2,>=1.21 in /usr/local/lib/python3.10/dist-packages (from matplotlib) (1.26.4)\n",
            "Requirement already satisfied: packaging>=20.0 in /usr/local/lib/python3.10/dist-packages (from matplotlib) (24.1)\n",
            "Requirement already satisfied: pillow>=6.2.0 in /usr/local/lib/python3.10/dist-packages (from matplotlib) (10.4.0)\n",
            "Requirement already satisfied: pyparsing>=2.3.1 in /usr/local/lib/python3.10/dist-packages (from matplotlib) (3.2.0)\n",
            "Requirement already satisfied: python-dateutil>=2.7 in /usr/local/lib/python3.10/dist-packages (from matplotlib) (2.8.2)\n",
            "Requirement already satisfied: six>=1.5 in /usr/local/lib/python3.10/dist-packages (from python-dateutil>=2.7->matplotlib) (1.16.0)\n"
          ]
        }
      ],
      "source": [
        "%pip install tensorflow\n",
        "%pip install tensorflow-gpu==2.17.0\n",
        "%pip install opencv-python\n",
        "%pip install matplotlib"
      ]
    },
    {
      "cell_type": "markdown",
      "metadata": {
        "id": "-8OPs-aakGhI"
      },
      "source": [
        "### 1.2. Data Setup"
      ]
    },
    {
      "cell_type": "code",
      "execution_count": 10,
      "metadata": {
        "id": "DX_K3-oBkGhI"
      },
      "outputs": [],
      "source": [
        "import tensorflow as tf\n",
        "import os"
      ]
    },
    {
      "cell_type": "code",
      "execution_count": 11,
      "metadata": {
        "id": "_xBvzzNEkGhJ"
      },
      "outputs": [],
      "source": [
        "# Limiting GPU memory consumption - OOM error\n",
        "gpus = tf.config.experimental.list_physical_devices('GPU')\n",
        "for gpu in gpus:\n",
        "    tf.config.experimental.set_memory_growth(gpu, True)"
      ]
    },
    {
      "cell_type": "markdown",
      "metadata": {
        "id": "GT0hTZCckGhK"
      },
      "source": [
        "### 1.3. Remove Dodgy Data"
      ]
    },
    {
      "cell_type": "code",
      "execution_count": 13,
      "metadata": {
        "id": "HfRp9QDkkGhL"
      },
      "outputs": [],
      "source": [
        "import cv2\n",
        "import imghdr"
      ]
    },
    {
      "cell_type": "code",
      "source": [
        "data_dir = 'data'\n",
        "image_exts = ['jpeg','jpg','png','bmp']"
      ],
      "metadata": {
        "id": "TYfCqlLEmSAa"
      },
      "execution_count": 14,
      "outputs": []
    },
    {
      "cell_type": "code",
      "source": [
        "for image_class in os.listdir(data_dir):\n",
        "    for image in os.listdir(os.path.join(data_dir, image_class)):\n",
        "      print(image)"
      ],
      "metadata": {
        "id": "zbQioeVimVr5",
        "outputId": "7a5d71fe-3201-4b73-bdfd-2f68b24df96c",
        "colab": {
          "base_uri": "https://localhost:8080/"
        }
      },
      "execution_count": 15,
      "outputs": [
        {
          "output_type": "stream",
          "name": "stdout",
          "text": [
            "image39.jpeg\n",
            "image7.jpeg\n",
            "sad-group-people-problems-17033671.jpg\n",
            "close-up-sad-man_23-2150896155.jpg\n",
            "889508df280eabc26c9e77695a0de8b0.jpg\n",
            "a-lonely-and-sad-person-sitting-on-a-bench-created-with-generative-ai-technology-photo.jpg\n",
            "kisspng-shoulder-product-5d1a1ca1992ff2.3181155215619923536275.jpg\n",
            "image26.jpeg\n",
            "sad-370x207-1.jpg\n",
            "image18.jpeg\n",
            "young-sad-man-crying-frustrated-person-sitting-vector-42585872.jpg\n",
            "nov-2022-cover-illustration-sad-person-looking-out-window.jpg\n",
            "dering-frustrated-man-expressing-no-idea-white-people-man-character-60484638.jpg\n",
            "image4.jpeg\n",
            "image15.jpeg\n",
            "image6.jpeg\n",
            "DealingwithDepressionwithoutMedication-1.jpg\n",
            "3602821b39e42ccebd3f382d9beb428f.jpg\n",
            "5198494-depressed-girl-pain-people-stress-worried-problem-photocase-stock-photo-large.jpeg\n",
            "image34.jpeg\n",
            "a-sad-mature-man-alone-in-darkness-sitting-and-thinking-HPIF02784.jpg\n",
            "image42.jpeg\n",
            "6145b905-b820-47c6-b757-7444e811f0f7.jpg\n",
            "guy-2617866_1280.jpg\n",
            "360_F_214879726_9bSXn2uHEDM1dwurJeo9oijgaExkzY0z.jpg\n",
            "225365065.jpg\n",
            "sad-woman-silhouette-sad-woman-silhouette-sitting-alone-white-background-102805522.jpg\n",
            "lovepik-a-sad-old-man-png-image_401101920_wh1200.png\n",
            "image22.jpeg\n",
            "illustration-stressed-person-park-rendering-people-human-character-140944635.jpg\n",
            "image.jpeg\n",
            "sadness-sad-persons-scale-depression-worry-sad-man.jpg\n",
            "42e96f1b1da1225ab2ea3c18665bc0ed.jpg\n",
            "sad-business-man-looking-down-silhouette-one-caucasian-studio-white-background-30555856.jpg\n",
            "image36.jpeg\n",
            "214-2142366_transparent-depression-png-depressed-sad-person-png-png.png\n",
            "image29.jpeg\n",
            "depression.jpg\n",
            "depressed-person-standing-alone-bench_23-2150761438.jpg\n",
            "image8.jpeg\n",
            "image17.jpeg\n",
            "sad-contemplative-person-near-lake_23-2150420661.jpg\n",
            "image40.jpeg\n",
            "image27.jpeg\n",
            "pngtree-charater-business-sad-man-png-image_7257777.png\n",
            "ose-up-portrait-woman-meditating-outdoor-scene-copy-space-problems-156077966.jpg\n",
            "image43.png\n",
            "AF2bZyjVUmr-11LamqrvAxolJ2yrwOISJJMog1IMLWTRa7VrWgs64-c-mo.jpg\n",
            "pngtree-charater-business-sad-man-png-image_4369749.png\n",
            "image10.jpeg\n",
            "image37.jpeg\n",
            "image31.jpeg\n",
            "image5.jpeg\n",
            "a-woman-sitting-on-a-bench-with-her-head-in-her-hands-free-png.png\n",
            "Depression-vs.-Sadness.jpg\n",
            "n-rendering-frustrated-upset-man-sitting-white-people-man-character-53250684.jpg\n",
            "image23.jpeg\n",
            "WSCE1K387X.jpg\n",
            "depressed-person-sitting-alone-bench_23-2150761466.jpg\n",
            "sadness.jpg\n",
            "360_F_183072654_HhnYLUbtZI1l1eAEAgXWiMc6TYRxP93W.jpg\n",
            "image13.jpeg\n",
            "image14.jpeg\n",
            "4e73a2bf-ab2a-48ca-bc96-be47983f23a4.jpg\n",
            "image2.jpeg\n",
            "image25.jpeg\n",
            "image35.jpeg\n",
            "man_sitting.jpg\n",
            "281349703.jpg\n",
            "people-sad-in-the-night-sky-illustration-free-photo.jpg\n",
            "1000_F_452957465_ZDlbGO5mwQ4LisGrusfhuFwYDG2by4lc.jpg\n",
            "do-you-cry-easily.jpg\n",
            "res-sad-man-suffering-depression-depression-health-people-conc_1025753-85950.jpg\n",
            "360_F_561995097_a0dHcJrC2lCdOj6CBp6xBeGYv0hCsMyM.jpg\n",
            "dd51c17de8b764aa8acf03c64436f3bd.jpg\n",
            "image24.jpeg\n",
            "360_F_667898066_TcoYb2bQLEp85YpI4hP8NcAK15gknvza.jpg\n",
            "image3.jpeg\n",
            "om-amazon-kindle-information-e-book-person-architecture-business-formal-wear.png\n",
            "portrait-young-man-lonely-boring-sad-people-B2GTFD.jpg\n",
            "image16.jpeg\n",
            "image21.jpeg\n",
            "image20.jpeg\n",
            "Fotolia_221688877_XS.jpg\n",
            "getty_501650894_118886.jpg\n",
            "depressed-man-standing-rain_23-2150761516.jpg\n",
            "png-transparent-sadness-person-depression-bored-s-hand-fictional-character-cartoon.png\n",
            "sad-people-vector-26812552.jpg\n",
            "image30.jpeg\n",
            "199816057.jpg\n",
            "depressed-young-businessman-sitting-wet-under-rain-FCYBWJ.jpg\n",
            "l-person-disappointed-of-corporate-job-fail-or-mistake-in-studio-fit_400_400.jpg\n",
            "7-Things-You-Should-Not-Say-to-a-Depressed-Friend-960x640.jpg\n",
            "sadpersonas-risks-symptoms-suicide.jpg\n",
            "anxious-man-indoors-front-view_23-2149729600.jpg\n",
            "sit-sad-man-isolated-on-white-background-E9H4AJ.jpg\n",
            "image11.jpeg\n",
            "image19.jpeg\n",
            "73705bd7debb66c2afc780a22c223804.jpg\n",
            "shutterstock_141411661-min.jpg\n",
            "image38.jpeg\n",
            "image32.jpeg\n",
            "image9.jpeg\n",
            "image33.jpeg\n",
            "image12.jpeg\n",
            "image28.jpeg\n",
            "5acf9ed1146e711e008b46d7.jpg\n",
            "994614.png\n",
            "image41.jpeg\n",
            "images9.jpg\n",
            "image7.jpeg\n",
            "images30.jpg\n",
            "MV5BMTM3ODM0NTQ1MF5BMl5BanBnXkFtZTcwMzAxMTM5OA._V1_.jpg\n",
            "images21.jpg\n",
            "friends-youth-happy-people-cartoon-W80EC5.jpg\n",
            "sitive-friendly-gestures-body-language-cartoon-vector-illustration_1016-9802.jpg\n",
            "image26.jpeg\n",
            "image18.jpeg\n",
            "image4.jpeg\n",
            "image15.jpeg\n",
            "happy-people-22.jpg\n",
            "image6.jpeg\n",
            "images.jpg\n",
            "170404-happy-workers-feature.jpg\n",
            "pngtree-team-of-happy-people-png-image_4677916.png\n",
            "images25.jpg\n",
            "hand-drawn-happy-people-jumping_23-2149092878.jpg\n",
            "portrait-of-four-jumping-happy-people-C5H685.jpg\n",
            "happy-people-group-fb-1024x537.jpg\n",
            "360_F_484873483_hg1ofIdXbMha5lKEDG3hJBrwKh1oikTq.jpg\n",
            "960x0.jpg\n",
            "Woman-Smiling-At-Dinner-Party.jpg\n",
            "Joyful-Happy-People-1.jpg\n",
            "getty_481914813_970647970450050_86275.jpg\n",
            "rating-victory-isolated-white-background-concept-friendship-healthy-91211177.jpg\n",
            "image22.jpeg\n",
            "images23.jpg\n",
            "71hBPTAhIXL._AC_UF10001000_QL80_.jpg\n",
            "images28.jpg\n",
            "images2.jpg\n",
            "GettyImages-565706549-949x534.jpg\n",
            "group-happy-people-party-isolated-white-background-31666248.jpg\n",
            "very-happy-people.jpg\n",
            "image.jpeg\n",
            "Overtly-Cheerful-Primer-Editorials-min.png\n",
            "images5.jpg\n",
            "goup-happy-people-group-jumping-isolated-white-background-35582232.jpg\n",
            "image29.jpeg\n",
            "images18.jpg\n",
            "images10.jpg\n",
            "images8.jpg\n",
            "medium-shot-happy-friends-city_23-2149003088.jpg\n",
            "images20.jpg\n",
            "images16.jpg\n",
            "image8.jpeg\n",
            "images14.jpg\n",
            "happy-people.jpeg\n",
            "56f455011e0000b300705475.jpeg\n",
            "image17.jpeg\n",
            "fa9bcb49cd80293f0999662840b369c1.jpg\n",
            "image27.jpeg\n",
            "image34.png\n",
            "20150413185238-secrets-happy-entrepreneurs-woman-gratitude-rainbow-.jpeg\n",
            "images4.jpg\n",
            "AF2bZyjVUmr-11LamqrvAxolJ2yrwOISJJMog1IMLWTRa7VrWgs64-c-mo.jpg\n",
            "xl-happy-people-jumping-01.jpg\n",
            "image10.jpeg\n",
            "mats--rejoicing-man-running-woman-girl-profession-pack-illustrations-3613847.png\n",
            "happy-people-crowd-joyful-group-isolated-white-background-89855730.jpg\n",
            "iStock-1207566766.jpg\n",
            "bigstock-Portrait-Of-Smiling-Employees-272904928-min-scaled.jpg\n",
            "383627315.jpg\n",
            "image31.jpeg\n",
            "image5.jpeg\n",
            "hand-drawn-happy-friends-jumping_23-2149095224.jpg\n",
            "image23.jpeg\n",
            "images22.jpg\n",
            "5229186.jpg\n",
            "happy-people21.jpg\n",
            "image13.jpeg\n",
            "friends_190412.jpg\n",
            "sperson-smile-happiness-gesture-business-people-child-company-hand-thumbnail.png\n",
            "Happy.jpg\n",
            "image14.jpeg\n",
            "bigstock-enjoy-freedom-26443526-1-300x201.jpg\n",
            "360_F_709672486_C7eaa5uLXe7qjYwuX0BvPeaUSemlVzpZ.jpg\n",
            "images32.jpg\n",
            "images29.jpg\n",
            "image2.jpeg\n",
            "HABITS-OF-HEALTHY-PEOPLE.jpg\n",
            "image25.jpeg\n",
            "happy-people-2.jpg\n",
            "png-clipart-business-service-marketing-happy-people-tshirt-service-thumbnail.png\n",
            "happy-family-happy-people.jpg\n",
            "Happy-People.jpg\n",
            "getty_478389113_970647970450091_99776.jpg\n",
            "maxresdefault2.jpg\n",
            "getty_152414899_97046097045006_68075.jpg\n",
            "images17.jpg\n",
            "9-not-need-happy.jpg\n",
            "group-young-happy-people-with-their-hands-up_369728-62.jpg\n",
            "habits-of-happy-people-jpg.jpg\n",
            "image24.jpeg\n",
            "image3.jpeg\n",
            "healthy-habits.jpg\n",
            "aecd7b04-bb40-42ad-9985-d63a3198a878.jpg\n",
            "maxresdefault.jpg\n",
            "image_jumpstory-download20230421-155938_7a7b427.jpg\n",
            "image16.jpeg\n",
            "happy-people3.png\n",
            "image21.jpeg\n",
            "1000_F_165246984_Ihe5LVattiq8zEPivcPqrtM85x7noWJw.jpg\n",
            "getty_505175324_2000131020009280246_158016.jpg\n",
            "image20.jpeg\n",
            "images7.jpg\n",
            "images11.jpg\n",
            "happy-woman-smiling-in-sunshine.jpg\n",
            "image30.jpeg\n",
            "happy-people-jump-with-raised-arms-characters-win-free-vector.jpg\n",
            "images15.jpg\n",
            "images_blogs_2020-blog-genuinely-happy.jpg\n",
            "images3.jpg\n",
            "images19.jpg\n",
            "image11.jpeg\n",
            "image19.jpeg\n",
            "image32.jpeg\n",
            "image9.jpeg\n",
            "Happiness-Habits-10-Things-Happy-People-Do-Before-Bed-1200x900.jpg\n",
            "image33.jpeg\n",
            "images26.jpg\n",
            "happy-people-3.jpg\n",
            "image12.jpeg\n",
            "images6.jpg\n",
            "05-12-21-happy-people.jpg\n",
            "sunset-570881_1280.jpg\n",
            "happy-people2.jpg\n",
            "-posing-in-vibrant-studio-settings-representing-unity-and-inclusivity-photo.jpeg\n",
            "image28.jpeg\n",
            "images12.jpg\n",
            "happy-people-9660980.jpg\n",
            "happypeople-1024x679.jpg\n",
            "images27.jpg\n",
            "societyofnofounded.png\n",
            "images13.jpg\n",
            "Screen-Shot-2012-10-23-at-12.57.22-PM.png\n",
            "friends-happy-190821.jpg\n",
            "happy-people4.jpg\n",
            "nm-how-happiness-affects-health-tnail.jpg\n",
            "images24.jpg\n",
            "images31.jpg\n"
          ]
        }
      ]
    },
    {
      "cell_type": "code",
      "source": [
        "img = cv2.imread(os.path.join('data','happy','happy1.jpg'))"
      ],
      "metadata": {
        "id": "25O65qJqmkhd"
      },
      "execution_count": 18,
      "outputs": []
    },
    {
      "cell_type": "code",
      "source": [
        "print(img)"
      ],
      "metadata": {
        "id": "M2tJQB-dmyk-",
        "outputId": "beaee860-03d1-44a1-84fc-9a39030a5125",
        "colab": {
          "base_uri": "https://localhost:8080/",
          "height": 147
        }
      },
      "execution_count": 21,
      "outputs": [
        {
          "output_type": "error",
          "ename": "AttributeError",
          "evalue": "'NoneType' object has no attribute 'shape'",
          "traceback": [
            "\u001b[0;31m---------------------------------------------------------------------------\u001b[0m",
            "\u001b[0;31mAttributeError\u001b[0m                            Traceback (most recent call last)",
            "\u001b[0;32m<ipython-input-21-fcb8c7c32d80>\u001b[0m in \u001b[0;36m<cell line: 1>\u001b[0;34m()\u001b[0m\n\u001b[0;32m----> 1\u001b[0;31m \u001b[0mprint\u001b[0m\u001b[0;34m(\u001b[0m\u001b[0mimg\u001b[0m\u001b[0;34m.\u001b[0m\u001b[0mshape\u001b[0m\u001b[0;34m)\u001b[0m\u001b[0;34m\u001b[0m\u001b[0;34m\u001b[0m\u001b[0m\n\u001b[0m",
            "\u001b[0;31mAttributeError\u001b[0m: 'NoneType' object has no attribute 'shape'"
          ]
        }
      ]
    },
    {
      "cell_type": "code",
      "source": [
        "# Dodgy script\n",
        "for image_class in os.listdir(data_dir):\n",
        "    for image in os.listdir(os.path.join(data_dir, image_class)):\n",
        "        image_path = os.path.join(data_dir, image_class, image)\n",
        "        try:\n",
        "            # Load data to open cv and Match path\n",
        "            img = cv2.imread(image_path)\n",
        "            tip = imghdr.what(image_path)\n",
        "            # if the image does not exist in path\n",
        "            if tip not in image_exts:\n",
        "                print('Image not in ext list {}'.format(image_path))\n",
        "                os.remove(image_path)\n",
        "        except Exception as e:\n",
        "            print('Issue with image {}'.format(image_path))"
      ],
      "metadata": {
        "id": "KR06vvNumOgS"
      },
      "execution_count": null,
      "outputs": []
    }
  ],
  "metadata": {
    "kernelspec": {
      "display_name": "Python 3 (ipykernel)",
      "language": "python",
      "name": "python3"
    },
    "language_info": {
      "codemirror_mode": {
        "name": "ipython",
        "version": 3
      },
      "file_extension": ".py",
      "mimetype": "text/x-python",
      "name": "python",
      "nbconvert_exporter": "python",
      "pygments_lexer": "ipython3",
      "version": "3.12.6"
    },
    "colab": {
      "provenance": []
    }
  },
  "nbformat": 4,
  "nbformat_minor": 0
}