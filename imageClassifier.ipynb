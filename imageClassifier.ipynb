{
 "cells": [
  {
   "cell_type": "markdown",
   "metadata": {},
   "source": [
    "# Image Classifier\n",
    "## 1. Building a Data Pipeline"
   ]
  },
  {
   "cell_type": "markdown",
   "metadata": {},
   "source": [
    "### 1.1. Install Packages"
   ]
  },
  {
   "cell_type": "code",
   "execution_count": 1,
   "metadata": {},
   "outputs": [
    {
     "name": "stdout",
     "output_type": "stream",
     "text": [
      "\u001b[?25l'tensorflow' already seems to be installed. Not modifying existing\n",
      "installation in '/home/mburu/.local/share/pipx/venvs/tensorflow'. Pass\n",
      "'--force' to force installation.\n",
      "\u001b[KFatal error from pip prevented installation. Full pip output in file:\n",
      "    /home/mburu/.local/state/pipx/log/cmd_2024-11-06_20.11.36_pip_errors.log\n",
      "\n",
      "pip seemed to fail to build package:\n",
      "    tensorflow-gpu\n",
      "\n",
      "Some possibly relevant errors from pip install:\n",
      "    \u001b[31m   \u001b[0m packaging._tokenizer.ParserSyntaxError: Expected end or semicolon (after name and no valid version specifier)\n",
      "\n",
      "Error installing tensorflow-gpu.\n",
      "\u001b[?25h\u001b[0m\u001b[?25l'opencv-python' already seems to be installed. Not modifying existing\n",
      "installation in '/home/mburu/.local/share/pipx/venvs/opencv-python'. Pass\n",
      "'--force' to force installation.\n",
      "\u001b[K⣟ installing matplotlibronment⢿ installing matplotlib⣯ installing matplotlib⣽ installing matplotlibNote: Dependent package 'numpy' contains 2 apps\n",
      "  - f2py\n",
      "  - numpy-config\n",
      "Note: Dependent package 'fonttools' contains 4 apps\n",
      "  - fonttools\n",
      "  - pyftmerge\n",
      "  - pyftsubset\n",
      "  - ttx\n",
      "\n",
      "No apps associated with package matplotlib. Try again with '--include-deps' to\n",
      "include apps of dependent packages, which are listed above. If you are\n",
      "attempting to install a library, pipx should not be used. Consider using pip\n",
      "or a similar tool instead.\n",
      "\u001b[?25h\u001b[0m"
     ]
    }
   ],
   "source": [
    "!pipx install tensorflow\n",
    "!pipx install tensorflow-gpu\n",
    "!pipx install opencv-python\n",
    "!pipx install matplotlib"
   ]
  },
  {
   "cell_type": "markdown",
   "metadata": {},
   "source": [
    "### 1.2. Data Setup"
   ]
  },
  {
   "cell_type": "code",
   "execution_count": null,
   "metadata": {},
   "outputs": [],
   "source": [
    "import tensorflow as tf\n",
    "import os"
   ]
  },
  {
   "cell_type": "code",
   "execution_count": null,
   "metadata": {},
   "outputs": [],
   "source": [
    "# Limiting GPU memory consumption - OOM error\n",
    "gpus = tf.config.experimental.list_physical_devices('GPU')\n",
    "for gpu in gpus:\n",
    "    tf.config.experimental.set_memory_growth(gpu, True)"
   ]
  },
  {
   "cell_type": "markdown",
   "metadata": {},
   "source": [
    "### 1.3. Remove Dodgy Data"
   ]
  },
  {
   "cell_type": "code",
   "execution_count": null,
   "metadata": {},
   "outputs": [],
   "source": [
    "import cv2\n",
    "import imghdr\n",
    "data_dir = 'data'\n",
    "image_exts = ['jpeg','jpg','png','bmp']\n",
    "\n",
    "# Dodgy script\n",
    "for image_class in os.listdir(data_dir):\n",
    "    for image in os.listdir(os.path.join(data_dir, image_class)):\n",
    "        image_path = os.path.join(data_dir, image_class, image)\n",
    "        try:\n",
    "            # Load data to open cv and Match path\n",
    "            img = cv2.imread(image_path)\n",
    "            tip = imghdr.what(image_path)\n",
    "            # if the image does not exist in path\n",
    "            if tip not in image_exts:\n",
    "                print('Image not in ext list {}'.format(image_path))\n",
    "                os.remove(image_path)\n",
    "        except Exception as e:\n",
    "            print('Issue with image {}'.format(image_path))"
   ]
  }
 ],
 "metadata": {
  "kernelspec": {
   "display_name": "Python 3 (ipykernel)",
   "language": "python",
   "name": "python3"
  },
  "language_info": {
   "codemirror_mode": {
    "name": "ipython",
    "version": 3
   },
   "file_extension": ".py",
   "mimetype": "text/x-python",
   "name": "python",
   "nbconvert_exporter": "python",
   "pygments_lexer": "ipython3",
   "version": "3.12.6"
  }
 },
 "nbformat": 4,
 "nbformat_minor": 2
}
